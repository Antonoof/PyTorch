{
  "nbformat": 4,
  "nbformat_minor": 0,
  "metadata": {
    "colab": {
      "provenance": []
    },
    "kernelspec": {
      "name": "python3",
      "display_name": "Python 3"
    },
    "language_info": {
      "name": "python"
    }
  },
  "cells": [
    {
      "cell_type": "markdown",
      "source": [
        "# Базовая работа с PyTorch"
      ],
      "metadata": {
        "id": "PlLRq8QhTFhj"
      }
    },
    {
      "cell_type": "code",
      "execution_count": 1,
      "metadata": {
        "colab": {
          "base_uri": "https://localhost:8080/",
          "height": 35
        },
        "id": "j-3EbhuFwd8J",
        "outputId": "4bcde83a-61a7-4ebe-a320-bb890ee7047d"
      },
      "outputs": [
        {
          "output_type": "execute_result",
          "data": {
            "text/plain": [
              "'2.5.1+cu124'"
            ],
            "application/vnd.google.colaboratory.intrinsic+json": {
              "type": "string"
            }
          },
          "metadata": {},
          "execution_count": 1
        }
      ],
      "source": [
        "import torch\n",
        "torch.__version__"
      ]
    },
    {
      "cell_type": "code",
      "source": [
        "p = print"
      ],
      "metadata": {
        "id": "i6cj6eL-0eyg"
      },
      "execution_count": 10,
      "outputs": []
    },
    {
      "cell_type": "code",
      "source": [
        "scalar = torch.tensor(7)\n",
        "p(scalar)\n",
        "p('dimensions:', scalar.ndim)\n",
        "p(scalar.item())"
      ],
      "metadata": {
        "colab": {
          "base_uri": "https://localhost:8080/"
        },
        "id": "DNrDsrbLyIcC",
        "outputId": "6991595e-9763-4897-e425-e483d2b2f90e"
      },
      "execution_count": 13,
      "outputs": [
        {
          "output_type": "stream",
          "name": "stdout",
          "text": [
            "tensor(7)\n",
            "dimensions: 0\n",
            "7\n"
          ]
        }
      ]
    },
    {
      "cell_type": "code",
      "source": [
        "vector = torch.tensor([7, 7])\n",
        "p(vector)\n",
        "p('dimensions:', vector.ndim)\n",
        "p('shape:', vector.shape)"
      ],
      "metadata": {
        "colab": {
          "base_uri": "https://localhost:8080/"
        },
        "id": "EKjmLOIezhya",
        "outputId": "640385c6-294e-480f-b28d-206fcde59ed7"
      },
      "execution_count": 14,
      "outputs": [
        {
          "output_type": "stream",
          "name": "stdout",
          "text": [
            "tensor([7, 7])\n",
            "dimensions: 1\n",
            "shape: torch.Size([2])\n"
          ]
        }
      ]
    },
    {
      "cell_type": "markdown",
      "source": [
        "**Note:** You might've noticed me using lowercase letters for scalar and vector and uppercase letters for MATRIX and TENSOR. This was on purpose. In practice, you'll often see scalars and vectors denoted as lowercase letters such as y or a. And matrices and tensors denoted as uppercase letters such as X or W."
      ],
      "metadata": {
        "id": "g9mJH2bG2Lxb"
      }
    },
    {
      "cell_type": "code",
      "source": [
        "MATRIX = torch.tensor([[7, 8],\n",
        "                      [9, 10]])\n",
        "p(MATRIX)\n",
        "p('dimensions:', MATRIX.ndim)\n",
        "p('shape:', MATRIX.shape)"
      ],
      "metadata": {
        "colab": {
          "base_uri": "https://localhost:8080/"
        },
        "id": "WeRmaKFV0DFE",
        "outputId": "5fd7f74c-1a7b-4205-8fec-1df9b76786c0"
      },
      "execution_count": 18,
      "outputs": [
        {
          "output_type": "stream",
          "name": "stdout",
          "text": [
            "tensor([[ 7,  8],\n",
            "        [ 9, 10]])\n",
            "dimensions: 2\n",
            "shape: torch.Size([2, 2])\n"
          ]
        }
      ]
    },
    {
      "cell_type": "code",
      "source": [
        "TENSOR = torch.tensor([[[1, 2, 3],\n",
        "                       [4, 5, 6],\n",
        "                       [7, 8, 9]]])\n",
        "p(TENSOR)\n",
        "p('dimensions:', TENSOR.ndim)\n",
        "p('shape:', TENSOR.shape)"
      ],
      "metadata": {
        "colab": {
          "base_uri": "https://localhost:8080/"
        },
        "id": "wG67060U1FeX",
        "outputId": "3ccfb1c6-fd87-4080-80ab-44554488ae9e"
      },
      "execution_count": 19,
      "outputs": [
        {
          "output_type": "stream",
          "name": "stdout",
          "text": [
            "tensor([[[1, 2, 3],\n",
            "         [4, 5, 6],\n",
            "         [7, 8, 9]]])\n",
            "dimensions: 3\n",
            "shape: torch.Size([1, 3, 3])\n"
          ]
        }
      ]
    },
    {
      "cell_type": "code",
      "source": [
        "random_tensor = torch.rand(size=(3, 4))\n",
        "p(random_tensor, random_tensor.dtype)"
      ],
      "metadata": {
        "colab": {
          "base_uri": "https://localhost:8080/"
        },
        "id": "1J1c0GJ23oYF",
        "outputId": "14f29215-9ea9-4ffc-c97f-5b95651b2dff"
      },
      "execution_count": 22,
      "outputs": [
        {
          "output_type": "stream",
          "name": "stdout",
          "text": [
            "tensor([[0.6037, 0.3545, 0.1019, 0.0433],\n",
            "        [0.1052, 0.4101, 0.1472, 0.9447],\n",
            "        [0.1798, 0.0298, 0.4222, 0.9154]]) torch.float32\n"
          ]
        }
      ]
    },
    {
      "cell_type": "code",
      "source": [
        "random_image_size_tensor = torch.rand(size=(224, 224, 3))\n",
        "p(random_image_size_tensor.shape, random_image_size_tensor.dtype)"
      ],
      "metadata": {
        "colab": {
          "base_uri": "https://localhost:8080/"
        },
        "id": "0foDvWUP3yuw",
        "outputId": "2ac83661-6c03-4c6a-b909-8ca5f9f3404c"
      },
      "execution_count": 24,
      "outputs": [
        {
          "output_type": "stream",
          "name": "stdout",
          "text": [
            "torch.Size([224, 224, 3]) torch.float32\n"
          ]
        }
      ]
    },
    {
      "cell_type": "code",
      "source": [
        "zeros = torch.zeros((3, 4))\n",
        "p(zeros, zeros.dtype)"
      ],
      "metadata": {
        "colab": {
          "base_uri": "https://localhost:8080/"
        },
        "id": "ZMsLGJkH4l42",
        "outputId": "516faba0-f7ec-4e3a-b613-fb1a4be68351"
      },
      "execution_count": 25,
      "outputs": [
        {
          "output_type": "stream",
          "name": "stdout",
          "text": [
            "tensor([[0., 0., 0., 0.],\n",
            "        [0., 0., 0., 0.],\n",
            "        [0., 0., 0., 0.]]) torch.float32\n"
          ]
        }
      ]
    },
    {
      "cell_type": "code",
      "source": [
        "ones = torch.ones((3, 4))\n",
        "p(ones, ones.dtype)"
      ],
      "metadata": {
        "colab": {
          "base_uri": "https://localhost:8080/"
        },
        "id": "zdexALyt40vp",
        "outputId": "5fcf73cb-f88a-482c-c917-e88ee190decf"
      },
      "execution_count": 26,
      "outputs": [
        {
          "output_type": "stream",
          "name": "stdout",
          "text": [
            "tensor([[1., 1., 1., 1.],\n",
            "        [1., 1., 1., 1.],\n",
            "        [1., 1., 1., 1.]]) torch.float32\n"
          ]
        }
      ]
    },
    {
      "cell_type": "code",
      "source": [
        "zero_to_ten = torch.arange(0, 10)\n",
        "p(zero_to_ten)"
      ],
      "metadata": {
        "colab": {
          "base_uri": "https://localhost:8080/"
        },
        "id": "JNZwHy6G5Fu5",
        "outputId": "a74225ce-8f21-4765-86a4-1a95f9b6dad8"
      },
      "execution_count": 27,
      "outputs": [
        {
          "output_type": "stream",
          "name": "stdout",
          "text": [
            "tensor([0, 1, 2, 3, 4, 5, 6, 7, 8, 9])\n"
          ]
        }
      ]
    },
    {
      "cell_type": "code",
      "source": [
        "# torch.zeros_like(input) or torch.ones_like(input)\n",
        "ten_zeros = torch.zeros_like(zero_to_ten)\n",
        "p(ten_zeros)"
      ],
      "metadata": {
        "colab": {
          "base_uri": "https://localhost:8080/"
        },
        "id": "x7IF4Y7E5NaH",
        "outputId": "3644bade-f27e-47a0-e20d-6bbae3967a99"
      },
      "execution_count": 28,
      "outputs": [
        {
          "output_type": "stream",
          "name": "stdout",
          "text": [
            "tensor([0, 0, 0, 0, 0, 0, 0, 0, 0, 0])\n"
          ]
        }
      ]
    },
    {
      "cell_type": "code",
      "source": [
        "# Default datatype for tensors is float32\n",
        "float_32_tensor = torch.tensor([3.0, 6.0, 9.0],\n",
        "                               dtype=None, # defaults to None, which is torch.float32 or whatever datatype is passed\n",
        "                               device=None, # defaults to None, which uses the default tensor type\n",
        "                               requires_grad=False) # if True, operations performed on the tensor are recorded\n",
        "\n",
        "p(float_32_tensor.shape, float_32_tensor.dtype, float_32_tensor.device)"
      ],
      "metadata": {
        "colab": {
          "base_uri": "https://localhost:8080/"
        },
        "id": "yCiOBJuL6utU",
        "outputId": "51081140-a948-4cf5-9a7d-00d6e0965d9e"
      },
      "execution_count": 29,
      "outputs": [
        {
          "output_type": "stream",
          "name": "stdout",
          "text": [
            "torch.Size([3]) torch.float32 cpu\n"
          ]
        }
      ]
    },
    {
      "cell_type": "code",
      "source": [
        "float_16_tensor = torch.tensor([3.0, 6.0, 9.0],\n",
        "                               dtype=torch.float16)\n",
        "p(float_16_tensor.dtype)"
      ],
      "metadata": {
        "colab": {
          "base_uri": "https://localhost:8080/"
        },
        "id": "e6eeL7Xf7dpJ",
        "outputId": "c2b4e37b-7646-4c93-9ac1-652329c6e55f"
      },
      "execution_count": 30,
      "outputs": [
        {
          "output_type": "stream",
          "name": "stdout",
          "text": [
            "torch.float16\n"
          ]
        }
      ]
    },
    {
      "cell_type": "code",
      "source": [
        "some_tensor = torch.rand(3, 4)\n",
        "\n",
        "p(some_tensor)\n",
        "p(f\"Shape of tensor: {some_tensor.shape}\")\n",
        "p(f\"Datatype of tensor: {some_tensor.dtype}\")\n",
        "p(f\"Device tensor is stored on: {some_tensor.device}\")"
      ],
      "metadata": {
        "colab": {
          "base_uri": "https://localhost:8080/"
        },
        "id": "OFvaqh3Y8OxS",
        "outputId": "f0e8227e-24a8-4f93-e94b-b0d6cf967592"
      },
      "execution_count": 31,
      "outputs": [
        {
          "output_type": "stream",
          "name": "stdout",
          "text": [
            "tensor([[0.6485, 0.1929, 0.5576, 0.1540],\n",
            "        [0.7921, 0.0881, 0.6313, 0.5816],\n",
            "        [0.9607, 0.0822, 0.6378, 0.6459]])\n",
            "Shape of tensor: torch.Size([3, 4])\n",
            "Datatype of tensor: torch.float32\n",
            "Device tensor is stored on: cpu\n"
          ]
        }
      ]
    },
    {
      "cell_type": "markdown",
      "source": [
        "# Операции над Тензорами"
      ],
      "metadata": {
        "id": "c-UN7QMi8kTN"
      }
    },
    {
      "cell_type": "code",
      "source": [
        "tensor = torch.tensor([1, 2, 3])\n",
        "\n",
        "p(tensor + 10)\n",
        "p(tensor - 10)\n",
        "p(tensor * 10)\n",
        "p(tensor / 10)\n",
        "\n",
        "p(torch.add(tensor, 10)) # +\n",
        "p(torch.mul(tensor, 10)) # *"
      ],
      "metadata": {
        "colab": {
          "base_uri": "https://localhost:8080/"
        },
        "id": "MzIuDdoL8nv8",
        "outputId": "2d0d788c-7de5-4cf3-d3e8-575337aa9c2c"
      },
      "execution_count": 35,
      "outputs": [
        {
          "output_type": "stream",
          "name": "stdout",
          "text": [
            "tensor([11, 12, 13])\n",
            "tensor([-9, -8, -7])\n",
            "tensor([10, 20, 30])\n",
            "tensor([0.1000, 0.2000, 0.3000])\n",
            "tensor([11, 12, 13])\n",
            "tensor([10, 20, 30])\n"
          ]
        }
      ]
    },
    {
      "cell_type": "code",
      "source": [
        "p(tensor * tensor) # поэлементное произведение\n",
        "\n",
        "# скалярное при глубине 1 (векторов)\n",
        "# матричное при глубине больше 1 (матриц, тензоров)\n",
        "p(tensor @ tensor)\n",
        "p(torch.matmul(tensor, tensor))"
      ],
      "metadata": {
        "colab": {
          "base_uri": "https://localhost:8080/"
        },
        "id": "3msR5QKw-fqa",
        "outputId": "cc94aa24-c38e-4e66-dfcc-ccffdfd78ea3"
      },
      "execution_count": 37,
      "outputs": [
        {
          "output_type": "stream",
          "name": "stdout",
          "text": [
            "tensor([1, 4, 9])\n",
            "tensor(14)\n",
            "tensor(14)\n"
          ]
        }
      ]
    },
    {
      "cell_type": "code",
      "source": [
        "%%time\n",
        "\n",
        "value = 0\n",
        "\n",
        "for i in range(len(tensor)):\n",
        "  value += tensor[i] * tensor[i]\n",
        "\n",
        "p(value)"
      ],
      "metadata": {
        "colab": {
          "base_uri": "https://localhost:8080/"
        },
        "id": "etk0jIEl_hhE",
        "outputId": "ad7a9c12-79c8-45e1-b4c7-8ae54c33ba84"
      },
      "execution_count": 38,
      "outputs": [
        {
          "output_type": "stream",
          "name": "stdout",
          "text": [
            "tensor(14)\n",
            "CPU times: user 1.67 ms, sys: 957 µs, total: 2.62 ms\n",
            "Wall time: 2.64 ms\n"
          ]
        }
      ]
    },
    {
      "cell_type": "code",
      "source": [
        "%%time\n",
        "\n",
        "p(torch.matmul(tensor, tensor))"
      ],
      "metadata": {
        "colab": {
          "base_uri": "https://localhost:8080/"
        },
        "id": "R5sM72e9_s8R",
        "outputId": "fe29c894-bb0b-487e-f5d7-98565bb0182f"
      },
      "execution_count": 40,
      "outputs": [
        {
          "output_type": "stream",
          "name": "stdout",
          "text": [
            "tensor(14)\n",
            "CPU times: user 472 µs, sys: 24 µs, total: 496 µs\n",
            "Wall time: 504 µs\n"
          ]
        }
      ]
    },
    {
      "cell_type": "code",
      "source": [
        "tensor_A = torch.tensor([[1, 2],\n",
        "                         [3, 4],\n",
        "                         [5, 6]], dtype=torch.float32)\n",
        "\n",
        "tensor_B = torch.tensor([[7, 10],\n",
        "                         [8, 11],\n",
        "                         [9, 12]], dtype=torch.float32)\n",
        "# матрица (3, 2) @ (3, 2) ошибка\n",
        "torch.matmul(tensor_A, tensor_B)"
      ],
      "metadata": {
        "colab": {
          "base_uri": "https://localhost:8080/",
          "height": 176
        },
        "id": "N9Mp6fZBAKxA",
        "outputId": "f12dc615-e35f-4628-d22f-157352da4a3f"
      },
      "execution_count": 41,
      "outputs": [
        {
          "output_type": "error",
          "ename": "RuntimeError",
          "evalue": "mat1 and mat2 shapes cannot be multiplied (3x2 and 3x2)",
          "traceback": [
            "\u001b[0;31m---------------------------------------------------------------------------\u001b[0m",
            "\u001b[0;31mRuntimeError\u001b[0m                              Traceback (most recent call last)",
            "\u001b[0;32m<ipython-input-41-417756942285>\u001b[0m in \u001b[0;36m<cell line: 0>\u001b[0;34m()\u001b[0m\n\u001b[1;32m      7\u001b[0m                          [9, 12]], dtype=torch.float32)\n\u001b[1;32m      8\u001b[0m \u001b[0;31m# матрица (3, 2) @ (3, 2) ошибка\u001b[0m\u001b[0;34m\u001b[0m\u001b[0;34m\u001b[0m\u001b[0m\n\u001b[0;32m----> 9\u001b[0;31m \u001b[0mtorch\u001b[0m\u001b[0;34m.\u001b[0m\u001b[0mmatmul\u001b[0m\u001b[0;34m(\u001b[0m\u001b[0mtensor_A\u001b[0m\u001b[0;34m,\u001b[0m \u001b[0mtensor_B\u001b[0m\u001b[0;34m)\u001b[0m\u001b[0;34m\u001b[0m\u001b[0;34m\u001b[0m\u001b[0m\n\u001b[0m",
            "\u001b[0;31mRuntimeError\u001b[0m: mat1 and mat2 shapes cannot be multiplied (3x2 and 3x2)"
          ]
        }
      ]
    },
    {
      "cell_type": "code",
      "source": [
        "p(torch.transpose(tensor_A, 0, 1)) # поменять местами (3(0), 2(1))\n",
        "p(tensor_A.T)"
      ],
      "metadata": {
        "colab": {
          "base_uri": "https://localhost:8080/"
        },
        "id": "7swf62N3Ahi4",
        "outputId": "34e210b4-f2f6-412a-8578-be4318865c09"
      },
      "execution_count": 46,
      "outputs": [
        {
          "output_type": "stream",
          "name": "stdout",
          "text": [
            "tensor([[1., 3., 5.],\n",
            "        [2., 4., 6.]])\n",
            "tensor([[1., 3., 5.],\n",
            "        [2., 4., 6.]])\n"
          ]
        }
      ]
    },
    {
      "cell_type": "code",
      "source": [
        "# одинаковый вывод\n",
        "p(torch.matmul(tensor_A, tensor_B.T))\n",
        "# p(torch.mm(tensor_A, tensor_B.T)) работает только с двумерными тензорами"
      ],
      "metadata": {
        "colab": {
          "base_uri": "https://localhost:8080/"
        },
        "id": "5tnGW-fvBPo_",
        "outputId": "4536a444-633a-4364-9dee-ecab49b30754"
      },
      "execution_count": 51,
      "outputs": [
        {
          "output_type": "stream",
          "name": "stdout",
          "text": [
            "tensor([[ 27.,  30.,  33.],\n",
            "        [ 61.,  68.,  75.],\n",
            "        [ 95., 106., 117.]])\n"
          ]
        }
      ]
    },
    {
      "cell_type": "markdown",
      "source": [
        "torch.nn.Linear()\n",
        "\n",
        "![image.png](data:image/png;base64,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)"
      ],
      "metadata": {
        "id": "7-LNM5NQCYO-"
      }
    },
    {
      "cell_type": "markdown",
      "source": [
        "![image.png](data:image/png;base64,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)"
      ],
      "metadata": {
        "id": "aIrOWPtcCnL0"
      }
    },
    {
      "cell_type": "code",
      "source": [
        "# уходим от рандомной инициализации весов\n",
        "torch.manual_seed(42)\n",
        "\n",
        "linear = torch.nn.Linear(in_features=2,\n",
        "                         out_features=6)\n",
        "x = tensor_A\n",
        "output = linear(x)\n",
        "p(f\"Input shape: {x.shape}\\n\")\n",
        "p(f\"Output:\\n{output}\\n\\nOutput shape: {output.shape}\")"
      ],
      "metadata": {
        "colab": {
          "base_uri": "https://localhost:8080/"
        },
        "id": "XBRqBwtxCgNL",
        "outputId": "01c853fb-165e-4ffb-bfe3-742fa9da5e3e"
      },
      "execution_count": 56,
      "outputs": [
        {
          "output_type": "stream",
          "name": "stdout",
          "text": [
            "Input shape: torch.Size([3, 2])\n",
            "\n",
            "Output:\n",
            "tensor([[2.2368, 1.2292, 0.4714, 0.3864, 0.1309, 0.9838],\n",
            "        [4.4919, 2.1970, 0.4469, 0.5285, 0.3401, 2.4777],\n",
            "        [6.7469, 3.1648, 0.4224, 0.6705, 0.5493, 3.9716]],\n",
            "       grad_fn=<AddmmBackward0>)\n",
            "\n",
            "Output shape: torch.Size([3, 6])\n"
          ]
        }
      ]
    },
    {
      "cell_type": "code",
      "source": [
        "x = torch.arange(0, 100, 10)\n",
        "\n",
        "p(x)\n",
        "p(f\"Minimum: {x.min()}\")\n",
        "p(f\"Maximum: {x.max()}\")\n",
        "# print(f\"Mean: {x.mean()}\") # this will error\n",
        "p(f\"Mean: {x.type(torch.float32).mean()}\") # won't work without float datatype\n",
        "p(f\"Sum: {x.sum()}\")"
      ],
      "metadata": {
        "colab": {
          "base_uri": "https://localhost:8080/"
        },
        "id": "2cXuNJWwEDO2",
        "outputId": "0028f7cb-09a1-4d5a-b90f-dece0c76f638"
      },
      "execution_count": 64,
      "outputs": [
        {
          "output_type": "stream",
          "name": "stdout",
          "text": [
            "tensor([ 0, 10, 20, 30, 40, 50, 60, 70, 80, 90])\n",
            "Minimum: 0\n",
            "Maximum: 90\n",
            "Mean: 45.0\n",
            "Sum: 450\n"
          ]
        }
      ]
    },
    {
      "cell_type": "code",
      "source": [
        "p(torch.max(x), torch.min(x), torch.mean(x.type(torch.float32)), torch.sum(x))"
      ],
      "metadata": {
        "colab": {
          "base_uri": "https://localhost:8080/"
        },
        "id": "ERHk28qwEl4w",
        "outputId": "e6b9e638-4f81-40b2-a0fd-d3cb2e4ef535"
      },
      "execution_count": 61,
      "outputs": [
        {
          "output_type": "stream",
          "name": "stdout",
          "text": [
            "tensor(90) tensor(0) tensor(45.) tensor(450)\n"
          ]
        }
      ]
    },
    {
      "cell_type": "code",
      "source": [
        "tensor = torch.arange(10, 100, 10)\n",
        "print(f\"Tensor: {tensor}\")\n",
        "\n",
        "# Returns index of min and max values\n",
        "print(f\"Index where min value occurs: {tensor.argmin()}\")\n",
        "print(f\"Index where max value occurs: {tensor.argmax()}\")"
      ],
      "metadata": {
        "colab": {
          "base_uri": "https://localhost:8080/"
        },
        "id": "BKZCwl-_FPez",
        "outputId": "68e418d9-5ddd-476a-831b-302cb056f794"
      },
      "execution_count": 67,
      "outputs": [
        {
          "output_type": "stream",
          "name": "stdout",
          "text": [
            "Tensor: tensor([10, 20, 30, 40, 50, 60, 70, 80, 90])\n",
            "Index where min value occurs: 0\n",
            "Index where max value occurs: 8\n"
          ]
        }
      ]
    },
    {
      "cell_type": "code",
      "source": [
        "tensor = torch.arange(10., 100., 10.)\n",
        "tensor.dtype"
      ],
      "metadata": {
        "colab": {
          "base_uri": "https://localhost:8080/"
        },
        "id": "Udvr0egCFfaN",
        "outputId": "78c2df77-35e3-4612-dc1d-aec1778f7ddc"
      },
      "execution_count": 68,
      "outputs": [
        {
          "output_type": "execute_result",
          "data": {
            "text/plain": [
              "torch.float32"
            ]
          },
          "metadata": {},
          "execution_count": 68
        }
      ]
    },
    {
      "cell_type": "code",
      "source": [
        "tensor_float16 = tensor.type(torch.float16)\n",
        "tensor_float16"
      ],
      "metadata": {
        "colab": {
          "base_uri": "https://localhost:8080/"
        },
        "id": "OfXFC6BOF1r0",
        "outputId": "f99f70df-7a6e-4997-dd0f-7dad09acff62"
      },
      "execution_count": 71,
      "outputs": [
        {
          "output_type": "execute_result",
          "data": {
            "text/plain": [
              "tensor([10., 20., 30., 40., 50., 60., 70., 80., 90.], dtype=torch.float16)"
            ]
          },
          "metadata": {},
          "execution_count": 71
        }
      ]
    },
    {
      "cell_type": "code",
      "source": [
        "tensor_int8 = tensor.type(torch.int8)\n",
        "tensor_int8"
      ],
      "metadata": {
        "colab": {
          "base_uri": "https://localhost:8080/"
        },
        "id": "4YLmyf-gF85m",
        "outputId": "01e51c19-43e9-4261-de35-368f0826f188"
      },
      "execution_count": 70,
      "outputs": [
        {
          "output_type": "execute_result",
          "data": {
            "text/plain": [
              "tensor([10, 20, 30, 40, 50, 60, 70, 80, 90], dtype=torch.int8)"
            ]
          },
          "metadata": {},
          "execution_count": 70
        }
      ]
    },
    {
      "cell_type": "markdown",
      "source": [
        "![image.png](data:image/png;base64,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)"
      ],
      "metadata": {
        "id": "0iG4xjWUHG2H"
      }
    },
    {
      "cell_type": "code",
      "source": [
        "x = torch.arange(1., 8.)\n",
        "p(x, x.shape)"
      ],
      "metadata": {
        "colab": {
          "base_uri": "https://localhost:8080/"
        },
        "id": "N_8vaT82HHX6",
        "outputId": "29efb26e-d088-4ced-cf26-c11d6b784719"
      },
      "execution_count": 72,
      "outputs": [
        {
          "output_type": "stream",
          "name": "stdout",
          "text": [
            "tensor([1., 2., 3., 4., 5., 6., 7.]) torch.Size([7])\n"
          ]
        }
      ]
    },
    {
      "cell_type": "code",
      "source": [
        "x_reshaped = x.reshape(1, 7)\n",
        "p(x_reshaped, x_reshaped.shape)"
      ],
      "metadata": {
        "colab": {
          "base_uri": "https://localhost:8080/"
        },
        "id": "AnUmMXl6Hbia",
        "outputId": "aea805b6-eaf4-49cc-cd38-dba908beb343"
      },
      "execution_count": 73,
      "outputs": [
        {
          "output_type": "stream",
          "name": "stdout",
          "text": [
            "tensor([[1., 2., 3., 4., 5., 6., 7.]]) torch.Size([1, 7])\n"
          ]
        }
      ]
    },
    {
      "cell_type": "code",
      "source": [
        "z = x.view(1, 7)\n",
        "z, z.shape"
      ],
      "metadata": {
        "colab": {
          "base_uri": "https://localhost:8080/"
        },
        "id": "7d2XdrjBHjs0",
        "outputId": "d19f4078-e15b-4462-e460-c36024279aeb"
      },
      "execution_count": 74,
      "outputs": [
        {
          "output_type": "execute_result",
          "data": {
            "text/plain": [
              "(tensor([[1., 2., 3., 4., 5., 6., 7.]]), torch.Size([1, 7]))"
            ]
          },
          "metadata": {},
          "execution_count": 74
        }
      ]
    },
    {
      "cell_type": "code",
      "source": [
        "# Changing z changes x\n",
        "z[:, 0] = 5\n",
        "z, x"
      ],
      "metadata": {
        "colab": {
          "base_uri": "https://localhost:8080/"
        },
        "id": "BJB3NUspH5Ww",
        "outputId": "a57da160-39e0-444c-f5ad-d6762fc7bc13"
      },
      "execution_count": 75,
      "outputs": [
        {
          "output_type": "execute_result",
          "data": {
            "text/plain": [
              "(tensor([[5., 2., 3., 4., 5., 6., 7.]]), tensor([5., 2., 3., 4., 5., 6., 7.]))"
            ]
          },
          "metadata": {},
          "execution_count": 75
        }
      ]
    },
    {
      "cell_type": "code",
      "source": [
        "x_stacked = torch.stack([x, x, x, x], dim=0)\n",
        "x_stacked"
      ],
      "metadata": {
        "colab": {
          "base_uri": "https://localhost:8080/"
        },
        "id": "G3Y0hhp1IEKK",
        "outputId": "ca02bf68-d2ba-4092-9e0d-58176cea9e66"
      },
      "execution_count": 79,
      "outputs": [
        {
          "output_type": "execute_result",
          "data": {
            "text/plain": [
              "tensor([[5., 2., 3., 4., 5., 6., 7.],\n",
              "        [5., 2., 3., 4., 5., 6., 7.],\n",
              "        [5., 2., 3., 4., 5., 6., 7.],\n",
              "        [5., 2., 3., 4., 5., 6., 7.]])"
            ]
          },
          "metadata": {},
          "execution_count": 79
        }
      ]
    },
    {
      "cell_type": "markdown",
      "source": [
        "**torch.squeeze()**"
      ],
      "metadata": {
        "id": "Xo4rkYX8IezX"
      }
    },
    {
      "cell_type": "code",
      "source": [
        "print(f\"Previous tensor: {x_reshaped}\")\n",
        "print(f\"Previous shape: {x_reshaped.shape}\")\n",
        "\n",
        "# Remove extra dimension from x_reshaped\n",
        "x_squeezed = x_reshaped.squeeze()\n",
        "print(f\"\\nNew tensor: {x_squeezed}\")\n",
        "print(f\"New shape: {x_squeezed.shape}\")"
      ],
      "metadata": {
        "colab": {
          "base_uri": "https://localhost:8080/"
        },
        "id": "DE7TqqMpIgAa",
        "outputId": "66f0497c-2cd2-4e34-caf4-7746d02bd1b8"
      },
      "execution_count": 80,
      "outputs": [
        {
          "output_type": "stream",
          "name": "stdout",
          "text": [
            "Previous tensor: tensor([[5., 2., 3., 4., 5., 6., 7.]])\n",
            "Previous shape: torch.Size([1, 7])\n",
            "\n",
            "New tensor: tensor([5., 2., 3., 4., 5., 6., 7.])\n",
            "New shape: torch.Size([7])\n"
          ]
        }
      ]
    },
    {
      "cell_type": "markdown",
      "source": [
        "**torch.unsqueeze()**"
      ],
      "metadata": {
        "id": "FfEMoDTMIuGX"
      }
    },
    {
      "cell_type": "code",
      "source": [
        "print(f\"Previous tensor: {x_squeezed}\")\n",
        "print(f\"Previous shape: {x_squeezed.shape}\")\n",
        "\n",
        "## Add an extra dimension with unsqueeze\n",
        "x_unsqueezed = x_squeezed.unsqueeze(dim=0)\n",
        "print(f\"\\nNew tensor: {x_unsqueezed}\")\n",
        "print(f\"New shape: {x_unsqueezed.shape}\")"
      ],
      "metadata": {
        "colab": {
          "base_uri": "https://localhost:8080/"
        },
        "id": "9G3EUPxoIrte",
        "outputId": "84f5a62f-36ce-423a-d1c1-036cbd8f51a0"
      },
      "execution_count": 81,
      "outputs": [
        {
          "output_type": "stream",
          "name": "stdout",
          "text": [
            "Previous tensor: tensor([5., 2., 3., 4., 5., 6., 7.])\n",
            "Previous shape: torch.Size([7])\n",
            "\n",
            "New tensor: tensor([[5., 2., 3., 4., 5., 6., 7.]])\n",
            "New shape: torch.Size([1, 7])\n"
          ]
        }
      ]
    },
    {
      "cell_type": "markdown",
      "source": [
        "**Note:** Because permuting returns a view (shares the same data as the original), the values in the permuted tensor will be the same as the original tensor and if you change the values in the view, it will change the values of the original."
      ],
      "metadata": {
        "id": "cOMyXxkpKykL"
      }
    },
    {
      "cell_type": "code",
      "source": [
        "x_original = torch.rand(size=(224, 224, 3))\n",
        "\n",
        "# Permute the original tensor to rearrange the axis order\n",
        "x_permuted = x_original.permute(2, 0, 1) # shifts axis 0->1, 1->2, 2->0\n",
        "\n",
        "print(f\"Previous shape: {x_original.shape}\")\n",
        "print(f\"New shape: {x_permuted.shape}\")"
      ],
      "metadata": {
        "colab": {
          "base_uri": "https://localhost:8080/"
        },
        "id": "cahmD70pKS-Z",
        "outputId": "0ba72424-718e-4418-d633-e0b5059a9066"
      },
      "execution_count": 82,
      "outputs": [
        {
          "output_type": "stream",
          "name": "stdout",
          "text": [
            "Previous shape: torch.Size([224, 224, 3])\n",
            "New shape: torch.Size([3, 224, 224])\n"
          ]
        }
      ]
    },
    {
      "cell_type": "markdown",
      "source": [
        "# Indexing"
      ],
      "metadata": {
        "id": "kVaHc1BFLBQi"
      }
    },
    {
      "cell_type": "code",
      "source": [
        "x = torch.arange(1, 10).reshape(1, 3, 3)\n",
        "x, x.shape"
      ],
      "metadata": {
        "colab": {
          "base_uri": "https://localhost:8080/"
        },
        "id": "u45ZyIVHLBF8",
        "outputId": "914c593e-cf87-4d12-a754-bd94dd9e394c"
      },
      "execution_count": 83,
      "outputs": [
        {
          "output_type": "execute_result",
          "data": {
            "text/plain": [
              "(tensor([[[1, 2, 3],\n",
              "          [4, 5, 6],\n",
              "          [7, 8, 9]]]),\n",
              " torch.Size([1, 3, 3]))"
            ]
          },
          "metadata": {},
          "execution_count": 83
        }
      ]
    },
    {
      "cell_type": "code",
      "source": [
        "print(f\"First square bracket:\\n{x[0]}\")\n",
        "print(f\"Second square bracket: {x[0][0]}\")\n",
        "print(f\"Third square bracket: {x[0][0][0]}\")"
      ],
      "metadata": {
        "colab": {
          "base_uri": "https://localhost:8080/"
        },
        "id": "I-1kNBUGLE1k",
        "outputId": "cff3f225-ef7a-4814-e80d-142240bca753"
      },
      "execution_count": 84,
      "outputs": [
        {
          "output_type": "stream",
          "name": "stdout",
          "text": [
            "First square bracket:\n",
            "tensor([[1, 2, 3],\n",
            "        [4, 5, 6],\n",
            "        [7, 8, 9]])\n",
            "Second square bracket: tensor([1, 2, 3])\n",
            "Third square bracket: 1\n"
          ]
        }
      ]
    },
    {
      "cell_type": "code",
      "source": [
        "p(x[:, 0])\n",
        "p(x[:, :, 1])\n",
        "p(x[0, 0, :])"
      ],
      "metadata": {
        "colab": {
          "base_uri": "https://localhost:8080/"
        },
        "id": "VoTPeUG6LWzC",
        "outputId": "4703c198-c99e-4432-b33f-a385c04850fa"
      },
      "execution_count": 85,
      "outputs": [
        {
          "output_type": "stream",
          "name": "stdout",
          "text": [
            "tensor([[1, 2, 3]])\n",
            "tensor([[2, 5, 8]])\n",
            "tensor([1, 2, 3])\n"
          ]
        }
      ]
    },
    {
      "cell_type": "markdown",
      "source": [
        "# PyTorch tensors & NumPy"
      ],
      "metadata": {
        "id": "t5ukr3PpNRww"
      }
    },
    {
      "cell_type": "code",
      "source": [
        "import torch\n",
        "import numpy as np\n",
        "\n",
        "array = np.arange(1.0, 8.0)\n",
        "tensor = torch.from_numpy(array)\n",
        "array, tensor"
      ],
      "metadata": {
        "colab": {
          "base_uri": "https://localhost:8080/"
        },
        "id": "Z2Dv6v21NQbj",
        "outputId": "8e0aa88a-ebdf-4f65-891e-8384cd88d012"
      },
      "execution_count": 86,
      "outputs": [
        {
          "output_type": "execute_result",
          "data": {
            "text/plain": [
              "(array([1., 2., 3., 4., 5., 6., 7.]),\n",
              " tensor([1., 2., 3., 4., 5., 6., 7.], dtype=torch.float64))"
            ]
          },
          "metadata": {},
          "execution_count": 86
        }
      ]
    },
    {
      "cell_type": "markdown",
      "source": [
        "**Note:** By default, NumPy arrays are created with the datatype float64 and if you convert it to a PyTorch tensor, it'll keep the same datatype (as above).\n",
        "\n",
        "However, many PyTorch calculations default to using float32.\n",
        "\n",
        "So if you want to convert your NumPy array (float64) -> PyTorch tensor (float64) -> PyTorch tensor (float32), you can use tensor = torch.from_numpy(array).type(torch.float32)."
      ],
      "metadata": {
        "id": "1vBKCQU5NtEu"
      }
    },
    {
      "cell_type": "code",
      "source": [
        "array = array + 1\n",
        "array, tensor"
      ],
      "metadata": {
        "colab": {
          "base_uri": "https://localhost:8080/"
        },
        "id": "BZjEAqZHNuqk",
        "outputId": "07e791c3-5a40-423c-e137-82beb095cf17"
      },
      "execution_count": 87,
      "outputs": [
        {
          "output_type": "execute_result",
          "data": {
            "text/plain": [
              "(array([2., 3., 4., 5., 6., 7., 8.]),\n",
              " tensor([1., 2., 3., 4., 5., 6., 7.], dtype=torch.float64))"
            ]
          },
          "metadata": {},
          "execution_count": 87
        }
      ]
    },
    {
      "cell_type": "code",
      "source": [
        "tensor = torch.ones(7) # create a tensor of ones with dtype=float32\n",
        "numpy_tensor = tensor.numpy() # will be dtype=float32 unless changed\n",
        "tensor, numpy_tensor"
      ],
      "metadata": {
        "colab": {
          "base_uri": "https://localhost:8080/"
        },
        "id": "E6J5ba80N4yQ",
        "outputId": "d40406ec-49c9-45f3-9206-beaaf13e8769"
      },
      "execution_count": 88,
      "outputs": [
        {
          "output_type": "execute_result",
          "data": {
            "text/plain": [
              "(tensor([1., 1., 1., 1., 1., 1., 1.]),\n",
              " array([1., 1., 1., 1., 1., 1., 1.], dtype=float32))"
            ]
          },
          "metadata": {},
          "execution_count": 88
        }
      ]
    },
    {
      "cell_type": "code",
      "source": [
        "tensor = tensor + 1\n",
        "tensor, numpy_tensor"
      ],
      "metadata": {
        "colab": {
          "base_uri": "https://localhost:8080/"
        },
        "id": "eEGRbSFSN-tr",
        "outputId": "57fc79d7-b194-497c-dfe5-62690e3f79eb"
      },
      "execution_count": 89,
      "outputs": [
        {
          "output_type": "execute_result",
          "data": {
            "text/plain": [
              "(tensor([2., 2., 2., 2., 2., 2., 2.]),\n",
              " array([1., 1., 1., 1., 1., 1., 1.], dtype=float32))"
            ]
          },
          "metadata": {},
          "execution_count": 89
        }
      ]
    },
    {
      "cell_type": "markdown",
      "source": [
        "# Reproducibility"
      ],
      "metadata": {
        "id": "Us2pyqNcPlK0"
      }
    },
    {
      "cell_type": "code",
      "source": [
        "# # Set the random seed\n",
        "RANDOM_SEED=42 # try changing this to different values and see what happens to the numbers below\n",
        "torch.manual_seed(seed=RANDOM_SEED)\n",
        "random_tensor_C = torch.rand(3, 4)\n",
        "\n",
        "# Have to reset the seed every time a new rand() is called\n",
        "# Without this, tensor_D would be different to tensor_C\n",
        "torch.random.manual_seed(seed=RANDOM_SEED) # try commenting this line out and seeing what happens\n",
        "random_tensor_D = torch.rand(3, 4)\n",
        "\n",
        "print(f\"Tensor C:\\n{random_tensor_C}\\n\")\n",
        "print(f\"Tensor D:\\n{random_tensor_D}\\n\")\n",
        "print(f\"Does Tensor C equal Tensor D? (anywhere)\")\n",
        "random_tensor_C == random_tensor_D"
      ],
      "metadata": {
        "colab": {
          "base_uri": "https://localhost:8080/"
        },
        "id": "V4c6DnAzPSm8",
        "outputId": "2a4762ac-08c5-4302-a3f2-8f9cea449ad2"
      },
      "execution_count": 92,
      "outputs": [
        {
          "output_type": "stream",
          "name": "stdout",
          "text": [
            "Tensor C:\n",
            "tensor([[0.8823, 0.9150, 0.3829, 0.9593],\n",
            "        [0.3904, 0.6009, 0.2566, 0.7936],\n",
            "        [0.9408, 0.1332, 0.9346, 0.5936]])\n",
            "\n",
            "Tensor D:\n",
            "tensor([[0.8823, 0.9150, 0.3829, 0.9593],\n",
            "        [0.3904, 0.6009, 0.2566, 0.7936],\n",
            "        [0.9408, 0.1332, 0.9346, 0.5936]])\n",
            "\n",
            "Does Tensor C equal Tensor D? (anywhere)\n"
          ]
        },
        {
          "output_type": "execute_result",
          "data": {
            "text/plain": [
              "tensor([[True, True, True, True],\n",
              "        [True, True, True, True],\n",
              "        [True, True, True, True]])"
            ]
          },
          "metadata": {},
          "execution_count": 92
        }
      ]
    },
    {
      "cell_type": "code",
      "source": [
        "torch.cuda.is_available()"
      ],
      "metadata": {
        "colab": {
          "base_uri": "https://localhost:8080/"
        },
        "id": "KD_JwvwFQdlw",
        "outputId": "ab76f25a-496b-442c-8dde-a1831af131cc"
      },
      "execution_count": 93,
      "outputs": [
        {
          "output_type": "execute_result",
          "data": {
            "text/plain": [
              "False"
            ]
          },
          "metadata": {},
          "execution_count": 93
        }
      ]
    },
    {
      "cell_type": "code",
      "source": [
        "device = \"cuda\" if torch.cuda.is_available() else \"cpu\"\n",
        "device"
      ],
      "metadata": {
        "colab": {
          "base_uri": "https://localhost:8080/",
          "height": 35
        },
        "id": "HJm128blQ2kf",
        "outputId": "13381430-0842-4e1f-aaa8-d4cdb3ebbf3c"
      },
      "execution_count": 101,
      "outputs": [
        {
          "output_type": "execute_result",
          "data": {
            "text/plain": [
              "'cpu'"
            ],
            "application/vnd.google.colaboratory.intrinsic+json": {
              "type": "string"
            }
          },
          "metadata": {},
          "execution_count": 101
        }
      ]
    },
    {
      "cell_type": "code",
      "source": [
        "torch.cuda.device_count()"
      ],
      "metadata": {
        "colab": {
          "base_uri": "https://localhost:8080/"
        },
        "id": "eH1pDKWsRFnQ",
        "outputId": "61e818c8-c347-4fdf-d6ae-cefac29034ee"
      },
      "execution_count": 96,
      "outputs": [
        {
          "output_type": "execute_result",
          "data": {
            "text/plain": [
              "0"
            ]
          },
          "metadata": {},
          "execution_count": 96
        }
      ]
    },
    {
      "cell_type": "markdown",
      "source": [
        "# Getting PyTorch to run on Apple Silicon"
      ],
      "metadata": {
        "id": "t7UH1cxuRmXn"
      }
    },
    {
      "cell_type": "code",
      "source": [
        "torch.backends.mps.is_available()"
      ],
      "metadata": {
        "colab": {
          "base_uri": "https://localhost:8080/"
        },
        "id": "WgrkdNMwRiNS",
        "outputId": "e91125e6-0b38-4657-adff-c46c67dd18d0"
      },
      "execution_count": 97,
      "outputs": [
        {
          "output_type": "execute_result",
          "data": {
            "text/plain": [
              "False"
            ]
          },
          "metadata": {},
          "execution_count": 97
        }
      ]
    },
    {
      "cell_type": "code",
      "source": [
        "device = \"mps\" if torch.backends.mps.is_available() else \"cpu\"\n",
        "device"
      ],
      "metadata": {
        "colab": {
          "base_uri": "https://localhost:8080/",
          "height": 35
        },
        "id": "9Bc3yqNyRkwl",
        "outputId": "196e7d70-72ae-483a-9c15-4f8a6d7fa6d8"
      },
      "execution_count": 98,
      "outputs": [
        {
          "output_type": "execute_result",
          "data": {
            "text/plain": [
              "'cpu'"
            ],
            "application/vnd.google.colaboratory.intrinsic+json": {
              "type": "string"
            }
          },
          "metadata": {},
          "execution_count": 98
        }
      ]
    },
    {
      "cell_type": "code",
      "source": [
        "if torch.cuda.is_available():\n",
        "    device = \"cuda\" # Use NVIDIA GPU (if available)\n",
        "elif torch.backends.mps.is_available():\n",
        "    device = \"mps\" # Use Apple Silicon GPU (if available)\n",
        "else:\n",
        "    device = \"cpu\" # Default to CPU if no GPU is available"
      ],
      "metadata": {
        "id": "EqeWD12JRqUg"
      },
      "execution_count": 99,
      "outputs": []
    },
    {
      "cell_type": "markdown",
      "source": [
        "# Putting tensors (and models) on the GPU"
      ],
      "metadata": {
        "id": "XJShCffLR6-N"
      }
    },
    {
      "cell_type": "code",
      "source": [
        "tensor = torch.tensor([1, 2, 3])\n",
        "\n",
        "# Tensor not on GPU\n",
        "print(tensor, tensor.device)\n",
        "\n",
        "# Move tensor to GPU (if available)\n",
        "tensor_on_gpu = tensor.to(device)\n",
        "tensor_on_gpu"
      ],
      "metadata": {
        "colab": {
          "base_uri": "https://localhost:8080/"
        },
        "id": "VW2SZS_HR8F-",
        "outputId": "d319af70-df16-40c0-c384-0b32cee192be"
      },
      "execution_count": 102,
      "outputs": [
        {
          "output_type": "stream",
          "name": "stdout",
          "text": [
            "tensor([1, 2, 3]) cpu\n"
          ]
        },
        {
          "output_type": "execute_result",
          "data": {
            "text/plain": [
              "tensor([1, 2, 3])"
            ]
          },
          "metadata": {},
          "execution_count": 102
        }
      ]
    },
    {
      "cell_type": "markdown",
      "source": [
        "# Moving tensors back to the CPU"
      ],
      "metadata": {
        "id": "xYVih7Q9SoAe"
      }
    },
    {
      "cell_type": "markdown",
      "source": [
        "**Note:** Putting a tensor on GPU using to(device) (e.g. some_tensor.to(device)) returns a copy of that tensor, e.g. the same tensor will be on CPU and GPU. To overwrite tensors, reassign them:\n",
        "\n",
        "some_tensor = some_tensor.to(device)"
      ],
      "metadata": {
        "id": "XJxxXCBYS83p"
      }
    },
    {
      "cell_type": "code",
      "source": [
        "tensor_on_gpu.numpy() # Ошибка т.к тензор на GPU"
      ],
      "metadata": {
        "colab": {
          "base_uri": "https://localhost:8080/"
        },
        "id": "NAZzVOH3SUCA",
        "outputId": "758dc737-b7e1-429c-b762-e03644a1416c"
      },
      "execution_count": 104,
      "outputs": [
        {
          "output_type": "execute_result",
          "data": {
            "text/plain": [
              "array([1, 2, 3])"
            ]
          },
          "metadata": {},
          "execution_count": 104
        }
      ]
    },
    {
      "cell_type": "code",
      "source": [
        "tensor_back_on_cpu = tensor_on_gpu.cpu().numpy()\n",
        "tensor_back_on_cpu"
      ],
      "metadata": {
        "colab": {
          "base_uri": "https://localhost:8080/"
        },
        "id": "gGw8Z36KSw3C",
        "outputId": "c455e252-ff75-441f-d0cd-ad74a5cec688"
      },
      "execution_count": 105,
      "outputs": [
        {
          "output_type": "execute_result",
          "data": {
            "text/plain": [
              "array([1, 2, 3])"
            ]
          },
          "metadata": {},
          "execution_count": 105
        }
      ]
    }
  ]
}